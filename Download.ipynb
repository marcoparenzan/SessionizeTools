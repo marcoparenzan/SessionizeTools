{
  "cells": [
    {
      "cell_type": "code",
      "execution_count": 1,
      "metadata": {
        "dotnet_interactive": {
          "language": "csharp"
        }
      },
      "source": [
        "var httpClient = new System.Net.Http.HttpClient();\n",
        "for(var i = 0; i<49; i++)\n",
        "{\n",
        "    var bytes = await httpClient.GetByteArrayAsync($\"https:///api/slide?idx={i}\");\n",
        "    await System.IO.File.WriteAllBytesAsync($\"Slide-{i:00}\", bytes);\n",
        "}"
      ],
      "outputs": []
    }
  ],
  "metadata": {
    "kernelspec": {
      "display_name": ".NET (C#)",
      "language": "C#",
      "name": ".net-csharp"
    },
    "language_info": {
      "file_extension": ".cs",
      "mimetype": "text/x-csharp",
      "name": "C#",
      "pygments_lexer": "csharp",
      "version": "8.0"
    }
  },
  "nbformat": 4,
  "nbformat_minor": 4
}